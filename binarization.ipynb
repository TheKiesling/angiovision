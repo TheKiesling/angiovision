{
 "cells": [
  {
   "cell_type": "code",
   "execution_count": null,
   "metadata": {},
   "outputs": [],
   "source": [
    "import numpy as np\n",
    "import matplotlib.pyplot as plt\n",
    "from skimage import exposure, restoration\n",
    "\n",
    "import cv2 as cv"
   ]
  },
  {
   "cell_type": "code",
   "execution_count": null,
   "metadata": {},
   "outputs": [],
   "source": [
    "image_path = 'data/original/1.pgm'\n",
    "image_groundtruth_path = 'data/groundtruth/1_gt.pgm'"
   ]
  },
  {
   "cell_type": "code",
   "execution_count": null,
   "metadata": {},
   "outputs": [],
   "source": [
    "image = plt.imread(image_path)\n",
    "image_groundtruth = plt.imread(image_groundtruth_path)"
   ]
  },
  {
   "cell_type": "code",
   "execution_count": null,
   "metadata": {},
   "outputs": [],
   "source": [
    "image = cv.imread(image_path, cv.IMREAD_GRAYSCALE)"
   ]
  },
  {
   "cell_type": "markdown",
   "metadata": {},
   "source": [
    "## Pre procesamiento"
   ]
  },
  {
   "cell_type": "code",
   "execution_count": null,
   "metadata": {},
   "outputs": [],
   "source": [
    "def equalize(image):\n",
    "    return cv.equalizeHist(image)"
   ]
  },
  {
   "cell_type": "code",
   "execution_count": null,
   "metadata": {},
   "outputs": [],
   "source": [
    "def inpaiting(image, mask):\n",
    "    return cv.inpaint(image, mask, inpaintRadius=3, flags=cv.INPAINT_TELEA)"
   ]
  },
  {
   "cell_type": "code",
   "execution_count": null,
   "metadata": {},
   "outputs": [],
   "source": [
    "equalized = equalize(image)\n",
    "mask = np.zeros(image.shape, dtype=np.uint8)"
   ]
  },
  {
   "cell_type": "code",
   "execution_count": null,
   "metadata": {},
   "outputs": [],
   "source": [
    "inpaint = inpaiting(equalized, mask)\n"
   ]
  },
  {
   "cell_type": "code",
   "execution_count": null,
   "metadata": {},
   "outputs": [],
   "source": [
    "plt.figure(figsize=(10, 5))\n",
    "plt.subplot(1, 3, 1)\n",
    "plt.title('Original')\n",
    "plt.imshow(image, cmap='gray')\n",
    "plt.subplot(1, 3, 2)\n",
    "plt.title('Ecualizada')\n",
    "plt.imshow(equalized, cmap='gray')\n",
    "plt.subplot(1, 3, 3)\n",
    "plt.title('Inpainting')\n",
    "plt.imshow(inpaint, cmap='gray')\n",
    "plt.show()"
   ]
  },
  {
   "cell_type": "markdown",
   "metadata": {},
   "source": [
    "## Niblack"
   ]
  },
  {
   "cell_type": "code",
   "execution_count": null,
   "metadata": {},
   "outputs": [],
   "source": [
    "def niblack_thresholding(image, window_size=15, k=-0.2):\n",
    "    x, y = image.shape\n",
    "    threshold = np.zeros((x, y), dtype=np.uint8)\n",
    "    \n",
    "    for i in range(x):\n",
    "        for j in range(y):\n",
    "            x1 = max(0, i - window_size // 2)\n",
    "            x2 = min(x, i + window_size // 2)\n",
    "            y1 = max(0, j - window_size // 2)\n",
    "            y2 = min(y, j + window_size // 2)\n",
    "            \n",
    "            window = image[x1:x2, y1:y2]\n",
    "            mean = np.mean(window)\n",
    "            std = np.std(window)\n",
    "            \n",
    "            threshold[i, j] = mean - k * std\n",
    "            \n",
    "    return threshold"
   ]
  },
  {
   "cell_type": "code",
   "execution_count": null,
   "metadata": {},
   "outputs": [],
   "source": [
    "threshold = niblack_thresholding(image, window_size=21, k=0.2)\n",
    "binary = image < threshold"
   ]
  },
  {
   "cell_type": "code",
   "execution_count": null,
   "metadata": {},
   "outputs": [],
   "source": [
    "def gaussian_blur(image, kernel_size=5, sigma=1.0):\n",
    "    ax = np.linspace(-(kernel_size - 1) / 2., (kernel_size - 1) / 2., kernel_size)\n",
    "    gauss = np.exp(-0.5 * np.square(ax) / np.square(sigma))\n",
    "    kernel = np.outer(gauss, gauss)\n",
    "    kernel = kernel / np.sum(kernel)\n",
    "    \n",
    "    padded_image = np.pad(image, kernel_size // 2, mode='reflect')\n",
    "    blurred = np.zeros_like(image)\n",
    "    \n",
    "    for i in range(image.shape[0]):\n",
    "        for j in range(image.shape[1]):\n",
    "            region = padded_image[i:i+kernel_size, j:j+kernel_size]\n",
    "            blurred[i, j] = np.sum(region * kernel)\n",
    "    \n",
    "    return blurred"
   ]
  },
  {
   "cell_type": "code",
   "execution_count": null,
   "metadata": {},
   "outputs": [],
   "source": [
    "def sobel_edge_detection(image):\n",
    "    sobel_x = np.array([[-1, 0, 1], [-2, 0, 2], [-1, 0, 1]])\n",
    "    sobel_y = np.array([[1, 2, 1], [0, 0, 0], [-1, -2, -1]])\n",
    "    \n",
    "    padded_image = np.pad(image, 1, mode='reflect')\n",
    "    grad_x = np.zeros_like(image)\n",
    "    grad_y = np.zeros_like(image)\n",
    "    \n",
    "    for i in range(image.shape[0]):\n",
    "        for j in range(image.shape[1]):\n",
    "            region = padded_image[i:i+3, j:j+3]\n",
    "            grad_x[i, j] = np.sum(region * sobel_x)\n",
    "            grad_y[i, j] = np.sum(region * sobel_y)\n",
    "    \n",
    "    edges = np.sqrt(grad_x**2 + grad_y**2)\n",
    "    edges = (edges / edges.max() * 255).astype(np.uint8)\n",
    "    \n",
    "    return edges"
   ]
  },
  {
   "cell_type": "code",
   "execution_count": null,
   "metadata": {},
   "outputs": [],
   "source": [
    "def dilate(image, kernel_size=3):\n",
    "    kernel = np.ones((kernel_size, kernel_size), dtype=np.uint8)\n",
    "    padded_image = np.pad(image, kernel_size // 2, mode='constant', constant_values=0)\n",
    "    dilated = np.zeros_like(image)\n",
    "    \n",
    "    for i in range(image.shape[0]):\n",
    "        for j in range(image.shape[1]):\n",
    "            region = padded_image[i:i+kernel_size, j:j+kernel_size]\n",
    "            dilated[i, j] = np.max(region * kernel)\n",
    "    \n",
    "    return dilated"
   ]
  },
  {
   "cell_type": "code",
   "execution_count": null,
   "metadata": {},
   "outputs": [],
   "source": [
    "def median_filter(image, kernel_size=3):\n",
    "    padded_image = np.pad(image, kernel_size // 2, mode='reflect')\n",
    "    filtered = np.zeros_like(image)\n",
    "    \n",
    "    for i in range(image.shape[0]):\n",
    "        for j in range(image.shape[1]):\n",
    "            region = padded_image[i:i+kernel_size, j:j+kernel_size]\n",
    "            filtered[i, j] = np.median(region)\n",
    "    \n",
    "    return filtered"
   ]
  },
  {
   "cell_type": "code",
   "execution_count": null,
   "metadata": {},
   "outputs": [],
   "source": [
    "def label(image):\n",
    "    labeled_image = np.zeros_like(image, dtype=np.int32)\n",
    "    label_count = 1\n",
    "    \n",
    "    for i in range(image.shape[0]):\n",
    "        for j in range(image.shape[1]):\n",
    "            if image[i, j] == 255 and labeled_image[i, j] == 0:\n",
    "                stack = [(i, j)]\n",
    "                while stack:\n",
    "                    x, y = stack.pop()\n",
    "                    if labeled_image[x, y] == 0:\n",
    "                        labeled_image[x, y] = label_count\n",
    "                        for dx in [-1, 0, 1]:\n",
    "                            for dy in [-1, 0, 1]:\n",
    "                                nx, ny = x + dx, y + dy\n",
    "                                if 0 <= nx < image.shape[0] and 0 <= ny < image.shape[1]:\n",
    "                                    if image[nx, ny] == 255 and labeled_image[nx, ny] == 0:\n",
    "                                        stack.append((nx, ny))\n",
    "                label_count += 1\n",
    "    \n",
    "    return labeled_image, label_count - 1\n"
   ]
  },
  {
   "cell_type": "code",
   "execution_count": null,
   "metadata": {},
   "outputs": [],
   "source": [
    "def remove_small_objects(binary_image, min_size=150):\n",
    "    labeled_image, num_labels = label(binary_image)\n",
    "    sizes = np.bincount(labeled_image.ravel())\n",
    "    mask_sizes = sizes >= min_size\n",
    "    mask_sizes[0] = 0  # Eliminar el fondo\n",
    "    \n",
    "    cleaned_image = mask_sizes[labeled_image]\n",
    "    return cleaned_image.astype(np.uint8) * 255\n"
   ]
  },
  {
   "cell_type": "code",
   "execution_count": null,
   "metadata": {},
   "outputs": [],
   "source": [
    "def binarize_arteries(image):\n",
    "    blurred = gaussian_blur(image)\n",
    "    edges = sobel_edge_detection(blurred)\n",
    "    dilated = dilate(edges)\n",
    "    median_filtered = median_filter(dilated)\n",
    "    binary_image = 255 - median_filtered\n",
    "    cleaned_image = remove_small_objects(binary_image)\n",
    "    return cleaned_image"
   ]
  },
  {
   "cell_type": "code",
   "execution_count": null,
   "metadata": {},
   "outputs": [],
   "source": [
    "binary = binarize_arteries(image)"
   ]
  },
  {
   "cell_type": "code",
   "execution_count": null,
   "metadata": {},
   "outputs": [],
   "source": [
    "plt.figure(figsize=(10, 5))\n",
    "plt.subplot(1, 2, 1)\n",
    "plt.title('Original')\n",
    "plt.imshow(image, cmap='gray')\n",
    "plt.subplot(1, 2, 2)\n",
    "plt.title('Binarizada')\n",
    "plt.imshow(binary, cmap='gray')\n",
    "plt.show()"
   ]
  },
  {
   "cell_type": "markdown",
   "metadata": {},
   "source": [
    "## Post procesamiento"
   ]
  },
  {
   "cell_type": "code",
   "execution_count": null,
   "metadata": {},
   "outputs": [],
   "source": []
  },
  {
   "cell_type": "markdown",
   "metadata": {},
   "source": [
    "## Resultados "
   ]
  },
  {
   "cell_type": "code",
   "execution_count": null,
   "metadata": {},
   "outputs": [],
   "source": [
    "plt.figure(figsize=(10, 10))\n",
    "\n",
    "plt.subplot(1, 2, 1)\n",
    "plt.imshow(binary, cmap='gray')\n",
    "plt.title('Binary')\n",
    "plt.axis('off')\n",
    "\n",
    "plt.subplot(1, 2, 2)\n",
    "plt.imshow(image_groundtruth, cmap='gray')\n",
    "plt.title('Groundtruth')\n",
    "plt.axis('off')\n",
    "\n",
    "plt.show()"
   ]
  },
  {
   "cell_type": "markdown",
   "metadata": {},
   "source": [
    "## Métricas"
   ]
  }
 ],
 "metadata": {
  "kernelspec": {
   "display_name": ".venv",
   "language": "python",
   "name": "python3"
  },
  "language_info": {
   "codemirror_mode": {
    "name": "ipython",
    "version": 3
   },
   "file_extension": ".py",
   "mimetype": "text/x-python",
   "name": "python",
   "nbconvert_exporter": "python",
   "pygments_lexer": "ipython3",
   "version": "3.12.3"
  }
 },
 "nbformat": 4,
 "nbformat_minor": 2
}
